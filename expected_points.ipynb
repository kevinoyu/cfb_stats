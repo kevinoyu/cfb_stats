{
 "cells": [
  {
   "cell_type": "code",
   "execution_count": 1,
   "metadata": {},
   "outputs": [],
   "source": [
    "import pandas as pd\n",
    "from data.drives import DriveFetcher\n",
    "from data.plays import PlayFetcher\n",
    "\n",
    "from matplotlib import pyplot as plt"
   ]
  },
  {
   "cell_type": "code",
   "execution_count": 2,
   "metadata": {},
   "outputs": [],
   "source": [
    "# CONFIG\n",
    "\n",
    "YEARS = [2017, 2018, 2019, 2021, 2022, 2023]\n",
    "# YEARS = [2023]\n",
    "\n",
    "# games with obvious data tracking errors\n",
    "IGNORE_GAMES = [\n",
    "    401520433,\n",
    "    401531412,\n",
    "    401520147, \n",
    "    401524003, \n",
    "    401524023,\n",
    "    401525546,\n",
    "    401525831,\n",
    "    401525868,\n",
    "    401525896,\n",
    "    401525900,\n",
    "    401532436, \n",
    "    401532449, \n",
    "    401532572, \n",
    "    401532630\n",
    "]\n",
    "\n",
    "# valid drive results - ignore others\n",
    "DRIVE_RESULT_FILTERS = {\n",
    "    'PUNT': 0,\n",
    "    'DOWNS': 0,\n",
    "    'FG': 3,\n",
    "    'TD': 7,\n",
    "    'MISSED FG': 0,\n",
    "    'FUMBLE': 0,\n",
    "    'INT': 0,\n",
    "    'INT TD': -7,\n",
    "    'FUMBLE TD': -7,\n",
    "    'MISSED FG TD': -7,\n",
    "    'FUMBLE RETURN TD': -7,\n",
    "    'PUNT RETURN TD': -7,\n",
    "    'SF': -2,\n",
    "}\n",
    "\n",
    "PLAY_FILTERS = [\n",
    "    'Pass Reception',\n",
    "    'Rush',\n",
    "    'Sack',\n",
    "    'Pass Incompletion',\n",
    "    'Field Goal Good',\n",
    "    'Rushing Touchdown',\n",
    "    'Field Goal Missed',\n",
    "    'Interception',\n",
    "    'Passing Touchdown',\n",
    "    'Fumble Recovery (Own)',\n",
    "    'Fumble Recovery (Opponent)',\n",
    "    'Interception Return Touchdown',\n",
    "    'Blocked Punt',\n",
    "    'Blocked Field Goal',\n",
    "    'Blocked Field Goal Touchdown',\n",
    "    'Blocked Punt Touchdown',\n",
    "    'Pass Interception Return',\n",
    "    'Punt Return Touchdown',\n",
    "    'Fumble Return Touchdown',\n",
    "    'Safety',\n",
    "    'Missed Field Goal Return',\n",
    "]"
   ]
  },
  {
   "cell_type": "code",
   "execution_count": 3,
   "metadata": {},
   "outputs": [],
   "source": [
    "# get data\n",
    "play_fetcher = PlayFetcher()\n",
    "\n",
    "play_data = play_fetcher.get_data(years=YEARS)\n",
    "play_data = play_data[play_data[\"type\"].isin(PLAY_FILTERS)]\n"
   ]
  },
  {
   "cell_type": "code",
   "execution_count": 4,
   "metadata": {},
   "outputs": [],
   "source": [
    "# get drives\n",
    "drive_fetcher = DriveFetcher()\n",
    "\n",
    "drive_data = drive_fetcher.get_data(years=YEARS)\n",
    "drive_data = drive_data[drive_data[\"result_str\"].isin(DRIVE_RESULT_FILTERS.keys())]\n",
    "drive_data = drive_data[~drive_data[\"game\"].isin(IGNORE_GAMES)]\n",
    "\n",
    "drive_data[\"derived_result\"] =  drive_data[\"result_str\"].map(DRIVE_RESULT_FILTERS)\n"
   ]
  },
  {
   "cell_type": "code",
   "execution_count": 74,
   "metadata": {},
   "outputs": [],
   "source": [
    "# join plays to drives to label each play with ultimate result\n",
    "joined_data = play_data.join(drive_data[[\"offense\", \"result\"]], on=\"drive\", rsuffix=\"_drive\").dropna(subset=[\"result\"])\n",
    "joined_data = joined_data[joined_data[\"offense\"] == joined_data[\"offense_drive\"]]"
   ]
  },
  {
   "cell_type": "code",
   "execution_count": null,
   "metadata": {},
   "outputs": [],
   "source": []
  }
 ],
 "metadata": {
  "kernelspec": {
   "display_name": "base",
   "language": "python",
   "name": "python3"
  },
  "language_info": {
   "codemirror_mode": {
    "name": "ipython",
    "version": 3
   },
   "file_extension": ".py",
   "mimetype": "text/x-python",
   "name": "python",
   "nbconvert_exporter": "python",
   "pygments_lexer": "ipython3",
   "version": "3.9.13"
  }
 },
 "nbformat": 4,
 "nbformat_minor": 2
}
